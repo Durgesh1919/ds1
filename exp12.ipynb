{
 "cells": [
  {
   "cell_type": "code",
   "execution_count": 1,
   "id": "initial_id",
   "metadata": {
    "collapsed": true,
    "ExecuteTime": {
     "end_time": "2024-05-02T17:12:06.160361Z",
     "start_time": "2024-05-02T17:12:06.155112Z"
    }
   },
   "outputs": [],
   "source": [
    "import pandas as pd\n",
    "import numpy as np"
   ]
  },
  {
   "cell_type": "code",
   "outputs": [],
   "source": [
    "df = pd.read_csv(\"datasets/records.csv\")"
   ],
   "metadata": {
    "collapsed": false,
    "ExecuteTime": {
     "end_time": "2024-05-02T17:35:15.042129Z",
     "start_time": "2024-05-02T17:35:14.827979Z"
    }
   },
   "id": "54677b01ba18664c",
   "execution_count": 10
  },
  {
   "cell_type": "code",
   "outputs": [
    {
     "data": {
      "text/plain": "   ID    Name    Role  Salary\n0   1  Pankaj  Editor   10000\n1   2    Lisa  Editor    8000\n2   3   David  Author    6000\n3   4     Ram  Author    4000\n4   5  Anupam  Author    5000",
      "text/html": "<div>\n<style scoped>\n    .dataframe tbody tr th:only-of-type {\n        vertical-align: middle;\n    }\n\n    .dataframe tbody tr th {\n        vertical-align: top;\n    }\n\n    .dataframe thead th {\n        text-align: right;\n    }\n</style>\n<table border=\"1\" class=\"dataframe\">\n  <thead>\n    <tr style=\"text-align: right;\">\n      <th></th>\n      <th>ID</th>\n      <th>Name</th>\n      <th>Role</th>\n      <th>Salary</th>\n    </tr>\n  </thead>\n  <tbody>\n    <tr>\n      <th>0</th>\n      <td>1</td>\n      <td>Pankaj</td>\n      <td>Editor</td>\n      <td>10000</td>\n    </tr>\n    <tr>\n      <th>1</th>\n      <td>2</td>\n      <td>Lisa</td>\n      <td>Editor</td>\n      <td>8000</td>\n    </tr>\n    <tr>\n      <th>2</th>\n      <td>3</td>\n      <td>David</td>\n      <td>Author</td>\n      <td>6000</td>\n    </tr>\n    <tr>\n      <th>3</th>\n      <td>4</td>\n      <td>Ram</td>\n      <td>Author</td>\n      <td>4000</td>\n    </tr>\n    <tr>\n      <th>4</th>\n      <td>5</td>\n      <td>Anupam</td>\n      <td>Author</td>\n      <td>5000</td>\n    </tr>\n  </tbody>\n</table>\n</div>"
     },
     "execution_count": 11,
     "metadata": {},
     "output_type": "execute_result"
    }
   ],
   "source": [
    "df"
   ],
   "metadata": {
    "collapsed": false,
    "ExecuteTime": {
     "end_time": "2024-05-02T17:35:16.761267Z",
     "start_time": "2024-05-02T17:35:16.733905Z"
    }
   },
   "id": "143645835ece5c50",
   "execution_count": 11
  },
  {
   "cell_type": "code",
   "outputs": [
    {
     "name": "stdout",
     "output_type": "stream",
     "text": [
      "<class 'pandas.core.frame.DataFrame'>\n",
      "RangeIndex: 5 entries, 0 to 4\n",
      "Data columns (total 4 columns):\n",
      " #   Column  Non-Null Count  Dtype \n",
      "---  ------  --------------  ----- \n",
      " 0   ID      5 non-null      int64 \n",
      " 1   Name    5 non-null      object\n",
      " 2   Role    5 non-null      object\n",
      " 3   Salary  5 non-null      int64 \n",
      "dtypes: int64(2), object(2)\n",
      "memory usage: 292.0+ bytes\n"
     ]
    }
   ],
   "source": [
    "df.info()"
   ],
   "metadata": {
    "collapsed": false,
    "ExecuteTime": {
     "end_time": "2024-05-02T17:35:19.196415Z",
     "start_time": "2024-05-02T17:35:19.168771Z"
    }
   },
   "id": "fc3414180a7078ac",
   "execution_count": 12
  },
  {
   "cell_type": "code",
   "outputs": [
    {
     "data": {
      "text/plain": "   ID    Name    Role  Salary\n0   1  Pankaj  Editor   10000\n1   2    Lisa  Editor    8000\n2   3   David  Author    6000\n3   4     Ram  Author    4000\n4   5  Anupam  Author    5000",
      "text/html": "<div>\n<style scoped>\n    .dataframe tbody tr th:only-of-type {\n        vertical-align: middle;\n    }\n\n    .dataframe tbody tr th {\n        vertical-align: top;\n    }\n\n    .dataframe thead th {\n        text-align: right;\n    }\n</style>\n<table border=\"1\" class=\"dataframe\">\n  <thead>\n    <tr style=\"text-align: right;\">\n      <th></th>\n      <th>ID</th>\n      <th>Name</th>\n      <th>Role</th>\n      <th>Salary</th>\n    </tr>\n  </thead>\n  <tbody>\n    <tr>\n      <th>0</th>\n      <td>1</td>\n      <td>Pankaj</td>\n      <td>Editor</td>\n      <td>10000</td>\n    </tr>\n    <tr>\n      <th>1</th>\n      <td>2</td>\n      <td>Lisa</td>\n      <td>Editor</td>\n      <td>8000</td>\n    </tr>\n    <tr>\n      <th>2</th>\n      <td>3</td>\n      <td>David</td>\n      <td>Author</td>\n      <td>6000</td>\n    </tr>\n    <tr>\n      <th>3</th>\n      <td>4</td>\n      <td>Ram</td>\n      <td>Author</td>\n      <td>4000</td>\n    </tr>\n    <tr>\n      <th>4</th>\n      <td>5</td>\n      <td>Anupam</td>\n      <td>Author</td>\n      <td>5000</td>\n    </tr>\n  </tbody>\n</table>\n</div>"
     },
     "execution_count": 13,
     "metadata": {},
     "output_type": "execute_result"
    }
   ],
   "source": [
    "# filling missing values - IMPUTATION\n",
    "data = df\n",
    "data['Salary'] = data['Salary'].fillna(data['Salary'].mean())\n",
    "\n",
    "data"
   ],
   "metadata": {
    "collapsed": false,
    "ExecuteTime": {
     "end_time": "2024-05-02T17:35:23.265801Z",
     "start_time": "2024-05-02T17:35:23.242171Z"
    }
   },
   "id": "9e83f3dff5692015",
   "execution_count": 13
  },
  {
   "cell_type": "code",
   "outputs": [
    {
     "data": {
      "text/plain": "   ID    Name    Role  Salary  SalaryMissing\n0   1  Pankaj  Editor   10000          False\n1   2    Lisa  Editor    8000          False\n2   3   David  Author    6000          False\n3   4     Ram  Author    4000          False\n4   5  Anupam  Author    5000          False",
      "text/html": "<div>\n<style scoped>\n    .dataframe tbody tr th:only-of-type {\n        vertical-align: middle;\n    }\n\n    .dataframe tbody tr th {\n        vertical-align: top;\n    }\n\n    .dataframe thead th {\n        text-align: right;\n    }\n</style>\n<table border=\"1\" class=\"dataframe\">\n  <thead>\n    <tr style=\"text-align: right;\">\n      <th></th>\n      <th>ID</th>\n      <th>Name</th>\n      <th>Role</th>\n      <th>Salary</th>\n      <th>SalaryMissing</th>\n    </tr>\n  </thead>\n  <tbody>\n    <tr>\n      <th>0</th>\n      <td>1</td>\n      <td>Pankaj</td>\n      <td>Editor</td>\n      <td>10000</td>\n      <td>False</td>\n    </tr>\n    <tr>\n      <th>1</th>\n      <td>2</td>\n      <td>Lisa</td>\n      <td>Editor</td>\n      <td>8000</td>\n      <td>False</td>\n    </tr>\n    <tr>\n      <th>2</th>\n      <td>3</td>\n      <td>David</td>\n      <td>Author</td>\n      <td>6000</td>\n      <td>False</td>\n    </tr>\n    <tr>\n      <th>3</th>\n      <td>4</td>\n      <td>Ram</td>\n      <td>Author</td>\n      <td>4000</td>\n      <td>False</td>\n    </tr>\n    <tr>\n      <th>4</th>\n      <td>5</td>\n      <td>Anupam</td>\n      <td>Author</td>\n      <td>5000</td>\n      <td>False</td>\n    </tr>\n  </tbody>\n</table>\n</div>"
     },
     "execution_count": 14,
     "metadata": {},
     "output_type": "execute_result"
    }
   ],
   "source": [
    "# Imputation with additional column\n",
    "data = df\n",
    "data['SalaryMissing'] = data['Salary'].isnull()\n",
    "\n",
    "data"
   ],
   "metadata": {
    "collapsed": false,
    "ExecuteTime": {
     "end_time": "2024-05-02T17:35:26.800577Z",
     "start_time": "2024-05-02T17:35:26.773634Z"
    }
   },
   "id": "2eb2699fa7ac10aa",
   "execution_count": 14
  },
  {
   "cell_type": "code",
   "outputs": [
    {
     "name": "stderr",
     "output_type": "stream",
     "text": [
      "C:\\Users\\kirte\\AppData\\Local\\Temp\\ipykernel_944\\1290719130.py:5: SettingWithCopyWarning: \n",
      "A value is trying to be set on a copy of a slice from a DataFrame\n",
      "\n",
      "See the caveats in the documentation: https://pandas.pydata.org/pandas-docs/stable/user_guide/indexing.html#returning-a-view-versus-a-copy\n",
      "  testdf.drop(\"Salary\",axis=1,inplace = True)\n"
     ]
    }
   ],
   "source": [
    "# regression model\n",
    "testdf = df[df['Salary'].isnull()==True]\n",
    "traindf = df[df['Salary'].isnull()==False]\n",
    "traindf.drop(\"Salary\",axis=1,inplace = True)\n",
    "testdf.drop(\"Salary\",axis=1,inplace = True)"
   ],
   "metadata": {
    "collapsed": false,
    "ExecuteTime": {
     "end_time": "2024-05-02T17:35:41.447268Z",
     "start_time": "2024-05-02T17:35:41.432491Z"
    }
   },
   "id": "b20493376806d010",
   "execution_count": 17
  },
  {
   "cell_type": "code",
   "outputs": [
    {
     "data": {
      "text/plain": "   ID    Name    Role  SalaryMissing\n0   1  Pankaj  Editor          False\n1   2    Lisa  Editor          False\n2   3   David  Author          False\n3   4     Ram  Author          False\n4   5  Anupam  Author          False",
      "text/html": "<div>\n<style scoped>\n    .dataframe tbody tr th:only-of-type {\n        vertical-align: middle;\n    }\n\n    .dataframe tbody tr th {\n        vertical-align: top;\n    }\n\n    .dataframe thead th {\n        text-align: right;\n    }\n</style>\n<table border=\"1\" class=\"dataframe\">\n  <thead>\n    <tr style=\"text-align: right;\">\n      <th></th>\n      <th>ID</th>\n      <th>Name</th>\n      <th>Role</th>\n      <th>SalaryMissing</th>\n    </tr>\n  </thead>\n  <tbody>\n    <tr>\n      <th>0</th>\n      <td>1</td>\n      <td>Pankaj</td>\n      <td>Editor</td>\n      <td>False</td>\n    </tr>\n    <tr>\n      <th>1</th>\n      <td>2</td>\n      <td>Lisa</td>\n      <td>Editor</td>\n      <td>False</td>\n    </tr>\n    <tr>\n      <th>2</th>\n      <td>3</td>\n      <td>David</td>\n      <td>Author</td>\n      <td>False</td>\n    </tr>\n    <tr>\n      <th>3</th>\n      <td>4</td>\n      <td>Ram</td>\n      <td>Author</td>\n      <td>False</td>\n    </tr>\n    <tr>\n      <th>4</th>\n      <td>5</td>\n      <td>Anupam</td>\n      <td>Author</td>\n      <td>False</td>\n    </tr>\n  </tbody>\n</table>\n</div>"
     },
     "execution_count": 18,
     "metadata": {},
     "output_type": "execute_result"
    }
   ],
   "source": [
    "traindf"
   ],
   "metadata": {
    "collapsed": false,
    "ExecuteTime": {
     "end_time": "2024-05-02T17:35:45.736807Z",
     "start_time": "2024-05-02T17:35:45.720829Z"
    }
   },
   "id": "aa28f49cbafba4db",
   "execution_count": 18
  }
 ],
 "metadata": {
  "kernelspec": {
   "display_name": "Python 3",
   "language": "python",
   "name": "python3"
  },
  "language_info": {
   "codemirror_mode": {
    "name": "ipython",
    "version": 2
   },
   "file_extension": ".py",
   "mimetype": "text/x-python",
   "name": "python",
   "nbconvert_exporter": "python",
   "pygments_lexer": "ipython2",
   "version": "2.7.6"
  }
 },
 "nbformat": 4,
 "nbformat_minor": 5
}
