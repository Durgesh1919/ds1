{
 "cells": [
  {
   "cell_type": "code",
   "execution_count": 1,
   "id": "initial_id",
   "metadata": {
    "collapsed": true,
    "ExecuteTime": {
     "end_time": "2024-05-02T17:19:08.723168Z",
     "start_time": "2024-05-02T17:19:07.354682Z"
    }
   },
   "outputs": [],
   "source": [
    "from textblob import TextBlob"
   ]
  },
  {
   "cell_type": "code",
   "outputs": [],
   "source": [
    "Feedback1 = \"The Food at Radison was awesome\"\n",
    "Feedback2 = \"The Food at Radison was very good\""
   ],
   "metadata": {
    "collapsed": false,
    "ExecuteTime": {
     "end_time": "2024-05-02T17:19:09.735839Z",
     "start_time": "2024-05-02T17:19:09.730538Z"
    }
   },
   "id": "54d7f08a66e46115",
   "execution_count": 2
  },
  {
   "cell_type": "code",
   "outputs": [],
   "source": [
    "blob1 = TextBlob(Feedback1)\n",
    "blob2 = TextBlob(Feedback2)"
   ],
   "metadata": {
    "collapsed": false,
    "ExecuteTime": {
     "end_time": "2024-05-02T17:19:29.156196Z",
     "start_time": "2024-05-02T17:19:29.150133Z"
    }
   },
   "id": "621c88d651c9a1b0",
   "execution_count": 3
  },
  {
   "cell_type": "code",
   "outputs": [
    {
     "data": {
      "text/plain": "Sentiment(polarity=1.0, subjectivity=1.0)"
     },
     "execution_count": 4,
     "metadata": {},
     "output_type": "execute_result"
    }
   ],
   "source": [
    "blob1.sentiment"
   ],
   "metadata": {
    "collapsed": false,
    "ExecuteTime": {
     "end_time": "2024-05-02T17:19:34.597185Z",
     "start_time": "2024-05-02T17:19:34.446310Z"
    }
   },
   "id": "58501b9eb2c1fa99",
   "execution_count": 4
  },
  {
   "cell_type": "code",
   "outputs": [
    {
     "data": {
      "text/plain": "Sentiment(polarity=0.9099999999999999, subjectivity=0.7800000000000001)"
     },
     "execution_count": 5,
     "metadata": {},
     "output_type": "execute_result"
    }
   ],
   "source": [
    "blob2.sentiment"
   ],
   "metadata": {
    "collapsed": false,
    "ExecuteTime": {
     "end_time": "2024-05-02T17:19:41.158758Z",
     "start_time": "2024-05-02T17:19:41.150820Z"
    }
   },
   "id": "5c7e3a5225e80471",
   "execution_count": 5
  }
 ],
 "metadata": {
  "kernelspec": {
   "display_name": "Python 3",
   "language": "python",
   "name": "python3"
  },
  "language_info": {
   "codemirror_mode": {
    "name": "ipython",
    "version": 2
   },
   "file_extension": ".py",
   "mimetype": "text/x-python",
   "name": "python",
   "nbconvert_exporter": "python",
   "pygments_lexer": "ipython2",
   "version": "2.7.6"
  }
 },
 "nbformat": 4,
 "nbformat_minor": 5
}
